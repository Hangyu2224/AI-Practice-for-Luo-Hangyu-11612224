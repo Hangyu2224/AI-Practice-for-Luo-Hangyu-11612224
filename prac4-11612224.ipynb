{
 "cells": [
  {
   "cell_type": "markdown",
   "metadata": {},
   "source": [
    "# Introduction to Artificial Intelligence for Non Computing"
   ]
  },
  {
   "cell_type": "markdown",
   "metadata": {},
   "source": [
    "## Practical 4 (weeks 7 - 8)"
   ]
  },
  {
   "cell_type": "markdown",
   "metadata": {},
   "source": [
    "#### Theory Questions"
   ]
  },
  {
   "cell_type": "markdown",
   "metadata": {},
   "source": [
    "1\\.Symbolize the following proposition and discuss the truth.\n",
    "1. Everyone has black hair.\n",
    "2. Some people boarded the moon.\n",
    "3. No one has boarded Jupiter\n",
    "4. Students studying in the US are not necessarily Asians."
   ]
  },
  {
   "cell_type": "markdown",
   "metadata": {},
   "source": [
    "_your answer here..._ \n",
    "[1] \n",
    "    - Assume that F(x):x is a human.\n",
    "    - Assume that M(X):x has black hair.\n",
    "    - Everyone has black hair -> ∀x F(x)=>M(x)\n",
    "    - Assume that one human called Jack has Blue hair.\n",
    "    - So F(Jack) is true, M(Jack) is false. That F(Jack)=>F(Jack) is false.\n",
    "    - So ∀x F(x)=>M(X) is false.\n",
    "    - So the proposition is false.\n",
    "[2] \n",
    "    - Assume that F(x):x is a human.\n",
    "    - Assume that O(x):x has boarded the moon.\n",
    "    - Some people boarded the moon -> ∃x F(x)∧O(x)\n",
    "    - We know that Kevin has boarded the moon, and he is human.\n",
    "    - So F(Kevin) is true , O(Kevin) is true . That F(Kevin)∧O(Kevin) is true.\n",
    "    - So ∃x F(x)∧O(x) is true.\n",
    "    - So the proposition is true.\n",
    "[3] \n",
    "    - Assume that F(x):x is a human.\n",
    "    - Assume that G(x):x has boarded the Jupiter.\n",
    "    - No one has boarded Jupiter -> ∀x F(x)=>￢G(x) -> ∀x ￢(F(x)∧G(x))\n",
    "    - Negative -> ∃x F(x)∧G(x)\n",
    "    - We know that no one has boarded Jupiter, Assume A is human, So F(A) is true, G(A) is false.\n",
    "    - So F(A)∧G(A) is false.\n",
    "    - So ∃x F(x)∧G(x) is false.\n",
    "    - So ∀x ￢(F(x)∧G(x)) is true.\n",
    "    - So the proposition is true.\n",
    "[4] \n",
    "    - Assume that S(x):x is a student studying in the US.\n",
    "    - Assume that A(x):x is a Asians.\n",
    "    - Students studying in the US are not necessarily Asians -> ∃x S(x)∧￢A(x)\n",
    "    - We know that many students studying in the US are Americans.\n",
    "    - Assume B is a student studying in the US, B is American.\n",
    "    - So S(B) is true , A(B) is false.\n",
    "    - So S(B)∧￢A(B) is true.\n",
    "    - So ∃x S(x)∧￢A(x) is true.\n",
    "    - So the proposition is true.\n",
    "***\n"
   ]
  },
  {
   "cell_type": "markdown",
   "metadata": {},
   "source": [
    "2\\.Judge the following formula, which is tautology? What is the contradiction?\n",
    "1. ∀xF(x)⇒(∃x∃yG(x,y))⇒∀xF(x))\n",
    "2. ￢( ∀xF(x)⇒∃yG(y))∧∃yG(y)\n",
    "3. ∀x(F(x)⇒G(y))"
   ]
  },
  {
   "cell_type": "markdown",
   "metadata": {},
   "source": [
    "### Answer\n",
    "1. It is tautology. Because it is always true. It is the same as a=>(b=>a).\n",
    "2. It is contradiction. Because it is always false. It is the same as ￢a=>(b=>a).\n",
    "3. Not tautology or contradiction.\n",
    "\n",
    "***"
   ]
  },
  {
   "cell_type": "markdown",
   "metadata": {},
   "source": [
    "3\\.Which of the following are correct?\n",
    "1. False |=True.\n",
    "2. (A ∧ B) |= (A ⇔ B).\n",
    "3. (A ∧ B) ⇒ C |= (A ⇒ C) ∨ (B ⇒ C).\n",
    "4. (A ∨ B) ∧ (￢C ∨￢D ∨ E) |= (A ∨ B).\n",
    "5. (A ∨ B) ∧ (￢C ∨￢D ∨ E) |= (A ∨ B) ∧ (￢D ∨ E)."
   ]
  },
  {
   "cell_type": "markdown",
   "metadata": {},
   "source": [
    "_your answer here..._ \n",
    "\n",
    "1. True.\n",
    "Reason: False has no models and hence entails every sentence and because True is true in all models and hence is entailed by every sentence.\n",
    "2. True.The left-hand side has exactly one model that is one of the two models of the right-hand side.\n",
    "Reason:The left-hand side has exactly one model that is one of the two models of the right-hand side.\n",
    "3. True.\n",
    "Reason:the RHS is false only when both disjuncts are false, i.e., when A and B are true and C is false, in which case the LHS is also false. This may seem counterintuitive, and would not hold if ⇒ is interpreted as “causes.”\n",
    "4. True\n",
    "Reason:Removing a conjunct only allows more models\n",
    "5. False\n",
    "Reason:Removing a disjunct allows fewer models. \n",
    "***"
   ]
  },
  {
   "cell_type": "markdown",
   "metadata": {},
   "source": [
    "4\\.Conjunctive normal form.link:https://baike.baidu.com/item/%E5%90%88%E5%8F%96%E8%8C%83%E5%BC%8F/2459360\n",
    "1. Obtaining conjunctive paradigm: P∧(Q⇒R)⇒S\n",
    "#### Basic steps to find a conjunctive normal form.\n",
    "1. Cut redundant connectives，Reserved {∨，∧，￢}\n",
    "2. Move or remove the negation ~\n",
    "3. distribution rates"
   ]
  },
  {
   "cell_type": "markdown",
   "metadata": {},
   "source": [
    "### Answer\n",
    "- P∧(Q⇒R)⇒S\n",
    "- P∧(￢Q∨R)⇒S\n",
    "- ￢(P∧(￢Q∨R))∨S\n",
    "- ￢P∨￢(￢Q∨R))∨S\n",
    "- ￢P∨(Q∧￢R)∨S\n",
    "- (￢P∨S∨Q)∧(￢P∨S∨￢R)\n",
    "\n",
    "***"
   ]
  },
  {
   "cell_type": "markdown",
   "metadata": {},
   "source": [
    "5\\.Arithmetic assertions can be written in first-order logic with the predicate symbol <,the function symbols + and ×, and the constant symbols 0 and 1. Additional   predicates can also be defined with biconditionals.(Chapter 8.20)\n",
    "1. Represent the property “x is an even number.”\n",
    "2. Represent the property “x is prime.”\n",
    "3. Goldbach’s conjecture is the conjecture (unproven as yet) that every even number is equal to the sum of two primes. Represent this conjecture as a logical sentence.\n"
   ]
  },
  {
   "cell_type": "markdown",
   "metadata": {},
   "source": [
    "### Answer\n",
    "1. ∀x Even(x) ⇔ ∃y x=2×y\n",
    "2. ∀x Prime(x) ⇔ ∀y,z x=y×z ⇒ (y=1 ∨ z=1)\n",
    "3. ∀x Even(x) ⇒ ∃y,z Prime(y) ∧ Prime(z) ∧ (x = y+z).\n",
    "\n",
    "***"
   ]
  },
  {
   "cell_type": "markdown",
   "metadata": {},
   "source": [
    "### Programming Excercises"
   ]
  },
  {
   "cell_type": "markdown",
   "metadata": {},
   "source": [
    "1. Take the multiagent folder from assignment 2 and copy into a new directory for this practical. We will implement a version of minimax for Ghost Agents to make very smart ghosts.\n",
    "\n",
    "First look at the file ghostAgents.py. Try to play classic pacman against the directional ghost and the random ghost. Use the following option:\n",
    "\n",
    "\n",
    "-g TYPE, --ghosts=TYPE\n",
    "                        the ghost agent TYPE in the ghostAgents module to use\n",
    "                        [Default: RandomGhost]\n",
    "\n",
    "Now implement a new ghost agent called MinimaxGhost. You will need to create a new class and methods in the file ghostAgent (you can ask the tutor if you need help to create the method stub).\n",
    "\n",
    "\n",
    "This will involve implementing the following methods:\n",
    "\n",
    "---\n",
    "<code>\n",
    "class MinmaxGhost ( GhostAgent ):\n",
    "\n",
    "    def __init__( self, index, ...):\n",
    "\t\t...\n",
    "\t\t\n",
    "\t\t\n",
    "\tdef getAction(self, state):\n",
    "\t\t...\n",
    "\n",
    "\tdef getDistribution(self, state):\n",
    "\t\t...\n",
    "</code>\n",
    "---\t\t\n",
    "\n",
    "\n",
    "To test whether or not you have implemented correctly you will need to compare the behaviour of your new ghost agent with the random ghost agent. This has to be done over multiple tests (e.g. 10 runs).\n",
    "\n",
    "- You can turn off the graphical display to use options -t or -q\n",
    "- You can perform multiple runs (e.g. 10) by setting the -numGames=10\n",
    "- You can fix the random seed as well.\n",
    "\n",
    "Try to use different layouts to test. A simple layout might be good for testing initially as you are developing your algorithm. New layout files can be created in the layout directory (must be saved with end of file name \".lay\"). For example:\n",
    "smallClassic.lay\n",
    "<code>\n",
    "%%%%%%%%%%%%%%%%%%%%\n",
    "%......%G  G%......%\n",
    "%.%%...%%  %%...%%.%\n",
    "%.%o.%........%.o%.%\n",
    "%.%%.%.%%%%%%.%.%%.%\n",
    "%........P.........%\n",
    "%%%%%%%%%%%%%%%%%%%%\n",
    "</code>\n",
    "newLayout.lay:\n",
    "<code>\n",
    "%%%%%%%\n",
    "% %G% %\n",
    "% % % %\n",
    "% % % %\n",
    "%%%P%%%\n",
    "%     %\n",
    "% %%% %\n",
    "% % % %\n",
    "% % % %\n",
    "% %%% %\n",
    "%  .  %\n",
    "%%%G%%%\n",
    "%%%%%%%\n",
    "</code>\n",
    "\n",
    "Please try to make some different layouts such as in this example,(the ghosts are marked by G, walls by % and pacman starting position by P,\".\" for pellet)\n",
    "<div style=\"float:center;\" ><img src=\"img/p2.png\" width=\"200\" height=\"50\" ></div> \n",
    "\n",
    "<code>\n",
    "%%%%%%%\n",
    "% %G% %\n",
    "% % % %\n",
    "% % % %\n",
    "%%%P%%%\n",
    "%    %\n",
    "% %%% %\n",
    "% % % %\n",
    "% % % %\n",
    "%o%%%o%\n",
    "%  .  %\n",
    "%%%G%%%\n",
    "%%%%%%%\n",
    "</code>\n",
    "\n",
    "\n",
    "---\n",
    "\n",
    "2\\. \n",
    "In this question we will test the new ghostAgent with different pacman agents. In your assignment you were asked to complete a Minimax pacman a version of Expectimax for pacman was provided. If you have not completed the assignment just use the provided expectimax version.\n",
    "\n",
    "We will perform some experiments to compare the performance of pacman against different types of ghost agent:\n",
    "- a random (not smart) ghost vs a pacman that assumes optimal play from ghosts (ie minimax pacman).\n",
    "- a smart (minmax) ghost vs a pacman that assumes optimal play from ghosts\n",
    "- random ghosts vs pacman that assumes ghosts may not always do an optimal move\n",
    "- smart (minimax) ghosts vs pacman that assumes that ghosts may do suboptimal moves.\n",
    "\n",
    "\n",
    "This will result in a table similar to the following:\n",
    "\n",
    "<div style=\"float:center;\" ><img src=\"img/p1.png\" width=\"400\" height=\"300\" ></div>\n",
    "\n",
    "\n"
   ]
  },
  {
   "cell_type": "code",
   "execution_count": 10,
   "metadata": {},
   "outputs": [],
   "source": []
  },
  {
   "cell_type": "markdown",
   "metadata": {},
   "source": [
    "|  . |Adversarial Ghost|Random Ghost|\n",
    "|------|------|------|\n",
    "|Minimax Pacman| Won:2/5 <br/> Avg.Score:354.2|Won:3/5 <br/> Avg.Score:486.2|\n",
    "|Expectimax Pacman|Won:1/5 <br/> Avg.Score:100.2|Won:1/5 <br/> Avg.Score:81.6|"
   ]
  },
  {
   "cell_type": "markdown",
   "metadata": {},
   "source": [
    "3\\.\n",
    "Describe the performance (in terms of the distribution) of Pacman in each case.\n",
    "\n",
    "In which cases is the Pacman agent implementing the correct assumption of the ghosts behaviour?\n",
    "\n",
    "### Answer\n",
    "We can see the best performance of Pacman is the Pacman with Minimax Agent with the threats of Ghosts under RandomGhost Agent, the second best performance of Pacman is the Pacman with Expectimax Agent with the threats of Ghosts under RandomGhost Agent.  And the worst  performance of Pacman is the Pacman with the threats of Adversarial Ghosts.Under the threats of Random Ghosts, the Pacman with Minimax Agent  implementing the correct assumption of the ghosts behaviour.\n",
    "\n",
    "---\n",
    "\n",
    "4\\. Describe why the ghosts seem as if they are cooperating when using minimax even though they are not sharing information with each other.\n",
    "\n",
    "### Answer\n",
    "Because both of them want the Pacman get lower score, and both of them assume the Pacman will move to the best place. So they will get the same information of Pacman in their depth,and they will assume other ghost do the worst choice when they calculate the scores.So the ghosts seem as if they are cooperating when using minimax even though they are not sharing information with each other."
   ]
  },
  {
   "cell_type": "code",
   "execution_count": null,
   "metadata": {},
   "outputs": [],
   "source": []
  }
 ],
 "metadata": {
  "kernelspec": {
   "display_name": "Python 3",
   "language": "python",
   "name": "python3"
  },
  "language_info": {
   "codemirror_mode": {
    "name": "ipython",
    "version": 3
   },
   "file_extension": ".py",
   "mimetype": "text/x-python",
   "name": "python",
   "nbconvert_exporter": "python",
   "pygments_lexer": "ipython3",
   "version": "3.6.5"
  }
 },
 "nbformat": 4,
 "nbformat_minor": 2
}
