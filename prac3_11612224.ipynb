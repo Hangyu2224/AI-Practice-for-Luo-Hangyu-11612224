{
 "cells": [
  {
   "cell_type": "markdown",
   "metadata": {},
   "source": [
    "# Introduction to Artificial Intelligence for Non Computing"
   ]
  },
  {
   "cell_type": "markdown",
   "metadata": {},
   "source": [
    "## Practical 3 (weeks 5 - 6)"
   ]
  },
  {
   "cell_type": "markdown",
   "metadata": {},
   "source": [
    "The following links provide additional information about data analysis , machine learning and Numpy"
   ]
  },
  {
   "cell_type": "markdown",
   "metadata": {},
   "source": [
    "Python data analysis: https://www.imooc.com/learn/843\n",
    "machine learning: https://www.imooc.com/learn/717\n",
    "Numpy :https://www.imooc.com/learn/943"
   ]
  },
  {
   "cell_type": "markdown",
   "metadata": {},
   "source": [
    "#### Theory Questions"
   ]
  },
  {
   "cell_type": "markdown",
   "metadata": {},
   "source": [
    "1\\.Which of the following are true and which are false? Give brief explanations.\n",
    "- a. In a fully observable, turn-taking, zero-sum game between two perfectly rational players,it does not help the first player to know what strategy the second player is using—that is, what move the second player will make, given the first player's move.\n",
    "- b. In a partially observable, turn-taking, zero-sum game between two perfectly rational players, it does not help the first player to know what move the second player will make, given the first player's move.\n",
    "- c. A perfectly rational backgammon agent never loses.\n",
    "\n",
    "See textbook Chapter6 24.6"
   ]
  },
  {
   "cell_type": "markdown",
   "metadata": {},
   "source": [
    "_your answer here..._ \n",
    "\n",
    "***\n",
    "a. True.The second player will play optimally, and so is perfectly predictable up to ties. Knowing which of two equally good moves the opponent will make does not change the value of the game to the first player.\n",
    "\n",
    "b. alse. In a partially observable game, knowing the second player’s move tells the first player additional information about the game state that would otherwise be available only to the second player. For example, in Kriegspiel, knowing the opponent’s future move tells the first player where one of the opponent’s pieces is; in a card game, it tells the first player one of the opponent’s cards.\n",
    "\n",
    "c. False. Backgammon is a game of chance, and the opponent may consistently roll much better dice. The correct statement is that the expected winnings are optimal. "
   ]
  },
  {
   "cell_type": "markdown",
   "metadata": {},
   "source": [
    "2\\.Define in your own words the terms constraint, backtracking search, arc consistency,backjumping, min-conflicts, and cycle cutset.\n",
    "\n",
    "See textbook Chapter6 6.16"
   ]
  },
  {
   "cell_type": "markdown",
   "metadata": {},
   "source": [
    "_your answer here..._ \n",
    "\n",
    "***\n",
    "Definition:\n",
    "Constraint: A restriction on the possible values of two or more variables. For example, a constraint might say that A = a is not allowed in conjunction with B = b.\n",
    "\n",
    "Backtracking search: A form of depth-first search in which there is a single repre- sentation of the state that gets updated for each successor, and then must be restored when a dead end is reached.\n",
    "\n",
    "Arc consistency: A directed arc from variable A to variable B in a CSP is arc consistent if, for every value in the current domain of A, there is some consistent value of B.\n",
    "\n",
    "Backjumping: A way of making backtracking search more efficient, by jumping back more than one level when a dead end is reached.\n",
    "\n",
    "Min-conflicts: A heuristic for use with local search on CSP problems. The heuristic says that, when given a variable to modify, choose the value that conflicts with the fewest number of other variables.\n",
    "\n",
    "Cycle cutset: A set of variables which when removed from the constraint graph make it acyclic (i.e., a tree). When the variables of a cycle cutset are instantiated the remainder of the CSP can be solved in linear time."
   ]
  },
  {
   "cell_type": "markdown",
   "metadata": {},
   "source": [
    "3\\.Explain why it is a good heuristic to choose the variable that is most constrained but the value that is least constraining in a CSP search.\n",
    "\n",
    "See textbook Chapter6 6.9"
   ]
  },
  {
   "cell_type": "markdown",
   "metadata": {},
   "source": [
    "_your answer here..._ \n",
    "\n",
    "***\n",
    "The most constrained variable makes sense because it chooses a variable that is (all other things being equal) likely to cause a failure, and it is more efficient to fail as early as possible (thereby pruning large parts of the search space). The least constraining value heuristic makes sense because it allows the most chances for future assignments to avoid conflict."
   ]
  },
  {
   "cell_type": "markdown",
   "metadata": {},
   "source": [
    "4\\.Consider the following procedure for choosing moves in games with chance nodes: \n",
    "- 1、Generate some dice-roll sequences (say, 50) down to a suitable depth (say, 8).\n",
    "- 2、With known dice rolls, the game tree becomes deterministic. For each dice-roll sequence,solve the resulting deterministic game tree using alpha-beta.\n",
    "- 3、Use the results to estimate the value of each move and to choose the best.Will this procedure work well? Why (or why not)?\n",
    "\n",
    "See textbook Chapter5 5.19"
   ]
  },
  {
   "cell_type": "markdown",
   "metadata": {},
   "source": [
    "_your answer here..._ \n",
    "\n",
    "***\n",
    "The procedure will give incorrect results. Mathematically, the procedure amounts to assuming that averaging commutes with min and max, which it does not intuitively, the choice made by each player in the deterministic trees are based on full knowledge of future dice rolls, and bear no neccessary relationship to the movies made without such knowledge."
   ]
  },
  {
   "cell_type": "markdown",
   "metadata": {},
   "source": [
    "5\\. Now,please consider this game:  there are three plates A, B and C, each plate has three bills. A puts 1, 20, 50; B puts 5, 10, 100; C puts 1, 5, 20. All units are \"Yuan\". There are two persons A and B, and two of them can check out three plates and banknotes .（ A is ourself, The other is B）\n",
    "The game is divided into three steps: \n",
    "- 1、A select a plate from three plate.\n",
    "- 2、B take out two banknotes from A selected plate,and give the  banknotes to A.  \n",
    "- 3、A take one of the two banknotes, and take it away.among,A want to get the max banknotes, B want to let A to get the min.\n",
    "\n",
    "Try to understand the minimax algorithm，you can click the link:https://blog.csdn.net/tangchenyi/article/details/22920031"
   ]
  },
  {
   "cell_type": "markdown",
   "metadata": {},
   "source": [
    "_your answer here..._ \n",
    "\n",
    "***\n",
    "If A select plate A, B will choose 1 and 20, and A will get 20.\n",
    "If A select plate B, B will choose 5 and 10, and A will get 10.\n",
    "If A select plate C, B will choose 1 and 5, and A will get 5.\n",
    "In order to get the max banknotes, A will select plate A."
   ]
  },
  {
   "cell_type": "markdown",
   "metadata": {},
   "source": [
    "### Programming Excercises"
   ]
  },
  {
   "cell_type": "markdown",
   "metadata": {},
   "source": [
    "1\\. Guess number(Single number): please generate a randomly number  with the function (random), then ask someone to guess the number,I think we should give the corresponding hint, otherwise it will be very difficult to guess the number.the game will be over untill you get the right number."
   ]
  },
  {
   "cell_type": "code",
   "execution_count": 1,
   "metadata": {},
   "outputs": [
    {
     "name": "stdout",
     "output_type": "stream",
     "text": [
      "The number is an integer between 1 and 50\n",
      "Please input your guess:40\n",
      "Big!!! Please guess a number between 1 and 40\n",
      "Please input your guess:30\n",
      "Big!!! Please guess a number between 1 and 30\n",
      "Please input your guess:20\n",
      "Big!!! Please guess a number between 1 and 20\n",
      "Please input your guess:10\n",
      "Big!!! Please guess a number between 1 and 10\n",
      "Please input your guess:1\n",
      "Small!!! Please guess a number between 1 and 10\n",
      "Please input your guess:5\n",
      "Big!!! Please guess a number between 1 and 5\n",
      "Please input your guess:3\n",
      "BINGO!\n"
     ]
    }
   ],
   "source": [
    "## write your answer here!\n",
    "import random\n",
    "number = random.randint(1,50)\n",
    "print (\"The number is an integer between 1 and 50\")\n",
    "Min = 1\n",
    "Max = 50\n",
    "a = int(input('Please input your guess:'))\n",
    "\n",
    "while a != number:\n",
    "    if (a < number):\n",
    "        print('Small!!! Please guess a number between '+str(a)+' and '+ str(Max))\n",
    "        Min = a\n",
    "    else:\n",
    "        print('Big!!! Please guess a number between ' + str(Min) + ' and ' + str(a))\n",
    "        Max = a\n",
    "\n",
    "    a = int(input('Please input your guess:'))\n",
    "\n",
    "\n",
    "print('BINGO!')"
   ]
  },
  {
   "cell_type": "markdown",
   "metadata": {},
   "source": [
    "2\\.if you had understand the guess single number games,Congratulates,next is the guess three number games,Maybe you can do it well.But this is a different way of thinking. \n",
    "first : we need generate three numbers,there are most ten times chances give  you to guess the number,of course,we also give you some cue.\n",
    "\n",
    "- 'When I say:-->It means:\n",
    "- 'error--> The 3 numbers are not in the mystical numbers.'\n",
    "- 'Only the number is correct --> the number is right , but the position is not right.'\n",
    "- 'Absolutely right--> numbers is right and the position also right.'\n",
    "\n",
    "Maybe it's better for you to understand the rule well through see the picture.\n",
    "<div style=\"float:left;\" ><img src=\"img/p1.png\" width=\"400\" height=\"300\" >"
   ]
  },
  {
   "cell_type": "code",
   "execution_count": 4,
   "metadata": {},
   "outputs": [
    {
     "name": "stdout",
     "output_type": "stream",
     "text": [
      "There are 3 numbers, you have 10 chance to guess it.\n",
      "This is your 1st chance:321\n",
      "['error', 'Absolutely right', 'error']\n",
      "This is your 2th chance:426\n",
      "['error', 'Absolutely right', 'error']\n",
      "This is your 3th chance:527\n",
      "Congratulations!!!\n"
     ]
    }
   ],
   "source": [
    "## write your answer here!\n",
    "import random\n",
    "times = 1\n",
    "number = []\n",
    "for i in range(0, 3):\n",
    "    number.append(random.randint(1, 9))\n",
    "print(\"There are 3 numbers, you have 10 chance to guess it.\")\n",
    "str_a = input('This is your ' + str(times) + 'st chance:')\n",
    "\n",
    "while (int(str_a[0]) != number[0] or int(str_a[1]) != number[1] or int(str_a[2]) != number[2]) and times < 10:\n",
    "    test = []\n",
    "    for i in range(0, 3):\n",
    "        if (int(str_a[i]) == number[0]) or ((int(str_a[i]) == number[2]) or (int(str_a[i]) == number[1])):\n",
    "            if int(str_a[i]) == number[i]:\n",
    "                test.append('Absolutely right')\n",
    "            else:\n",
    "                test.append('Only the number is correct')\n",
    "        else:\n",
    "            test.append('error')\n",
    "    print(test)\n",
    "    times+=1\n",
    "    str_a = input('This is your ' + str(times) + 'th chance:')\n",
    "\n",
    "if int(str_a[0]) == number[0] and int(str_a[1]) == number[1] and int(str_a[2]) == number[2]:\n",
    "    print('Congratulations!!!')\n",
    "else:\n",
    "    print('You can make it again.')"
   ]
  },
  {
   "cell_type": "markdown",
   "metadata": {},
   "source": [
    "3\\.please try using Python's Tkinter to make a visual interface（GUI）.if you don't know anything.Maybe you can refer to the below interface.and implement it by code.\n",
    "\n",
    "<div style=\"float:left;\" ><img src=\"img/p2.png\" width=\"200\" height=\"200\" >"
   ]
  },
  {
   "cell_type": "code",
   "execution_count": 6,
   "metadata": {},
   "outputs": [],
   "source": [
    "## write your answer here!\n",
    "from tkinter import *\n",
    "\n",
    "root = Tk('Question')\n",
    "\n",
    "text1 = ['C', 'python', 'php', 'html',  'SQL', 'java']\n",
    "text2 = ['CSS', 'jQuery', 'Bootstrap']\n",
    "box1 = Listbox(root)\n",
    "box2 = Listbox(root)\n",
    "\n",
    "for item in text1:\n",
    "    box1.insert(0,item)\n",
    "for item in text2:\n",
    "    box2.insert(0,item)\n",
    "\n",
    "box1.pack()\n",
    "box2.pack()\n",
    "\n",
    "\n",
    "root.mainloop()"
   ]
  },
  {
   "cell_type": "markdown",
   "metadata": {},
   "source": [
    "4\\.Through the initial trial of Tkinter,    please write a simple calculator.\n",
    "\n",
    "<div style=\"float:left;\" ><img src=\"img/p3.png\" width=\"180\" height=\"200\" center=\"left\"></div>\n",
    "<div style=\"float:left;\" ><img src=\"img/p4.png\" width=\"180\" height=\"200\" center=\"right\" ></div>"
   ]
  },
  {
   "cell_type": "code",
   "execution_count": 15,
   "metadata": {},
   "outputs": [],
   "source": [
    "## write your answer here!\n",
    "import tkinter as tk\n",
    "\n",
    "calculator = tk.Tk()\n",
    "calculator.title(\"Simple Calculator\")\n",
    "\n",
    "buttons = [\n",
    "'7',  '8',  '9',  '*',  'C',\n",
    "'4',  '5',  '6',  '/',  '±',\n",
    "'1',  '2',  '3',  '-',  'CE',\n",
    "'0',  '.',  '=',  '+',  'help' ]\n",
    "row = 1\n",
    "col = 0\n",
    "for i in buttons:\n",
    "    button_style = 'raised'\n",
    "    action = lambda x = i: click_event(x)\n",
    "    tk.Button(calculator, text = i, width = 7, height = 7, relief = button_style, command = action) \\\n",
    "        .grid(row = row, column = col, sticky = 'nesw', )\n",
    "    col += 1\n",
    "    if col > 4:\n",
    "        col = 0\n",
    "        row += 1\n",
    "display = tk.Entry(calculator, width = 40, bg = \"yellow\")\n",
    "display.grid(row = 0, column = 0, columnspan = 5)\n",
    "\n",
    "def operation(key):\n",
    "    if key == '=':        \n",
    "        if '/' in display.get() and '.' not in display.get():\n",
    "            display.insert(tk.END, \".0\")\n",
    "        try:\n",
    "            result = eval(display.get())\n",
    "            display.insert(tk.END, \" = \" + str(result))\n",
    "        except:\n",
    "            display.insert(tk.END, \"   Error operation!\")\n",
    "    elif key == 'C':\n",
    "        display.delete(0, tk.END)\n",
    "    elif key == 'CE':\n",
    "        display.delete(0, tk.END)\n",
    "    elif key == 'help':\n",
    "        display.delete(0, tk.END)\n",
    "        display.insert(tk.END, \"Don't worry! The work force will contact you soon!\")\t\t\n",
    "    elif key == '±':\n",
    "        if '=' in display.get():\n",
    "            display.delete(0, tk.END)\n",
    "        try:\n",
    "            if display.get()[0] == '-':\n",
    "                display.delete(0)\n",
    "            else:\n",
    "                display.insert(0, '-')\n",
    "        except IndexError:\n",
    "            pass\n",
    "    else:\n",
    "        if '=' in display.get():\n",
    "            display.delete(0, tk.END)\n",
    "        display.insert(tk.END, key)\n",
    "\n",
    "\n",
    "calculator.mainloop()"
   ]
  },
  {
   "cell_type": "markdown",
   "metadata": {},
   "source": [
    "5\\.Ball game:Python's pinball game, which can realize the game function of the keyboard control bottom baffle moving collision ball similar to table tennis game. \n",
    "\n",
    "<div style=\"float:left;\" ><img src=\"img/p5.png\" width=\"200\" height=\"200\" center=\"left\"></div>\n",
    "<div style=\"float:left;\" ><img src=\"img/p6.png\" width=\"200\" height=\"200\" center=\"right\" ></div>\n"
   ]
  },
  {
   "cell_type": "markdown",
   "metadata": {},
   "source": [
    "this is a step:how to install the matplotlib,you can reference this link:https://blog.csdn.net/not_give_up_/article/details/79058272\n",
    "1. Ball Class\n",
    "    draw is responsible for moving Ball\n",
    "    Collision detection, bounce, Ball detection of Paddle \n",
    "2. Paddle Class\n",
    "    draw is responsible for moving Paddle\n",
    "    Collision detection to determine whether or not to continue ,Monitor keyboard events\n",
    "3. main cycle\n",
    "    Drawing the Ball and Paddle"
   ]
  },
  {
   "cell_type": "code",
   "execution_count": 1,
   "metadata": {},
   "outputs": [
    {
     "ename": "TclError",
     "evalue": "invalid command name \".!canvas\"",
     "output_type": "error",
     "traceback": [
      "\u001b[1;31m---------------------------------------------------------------------------\u001b[0m",
      "\u001b[1;31mTclError\u001b[0m                                  Traceback (most recent call last)",
      "\u001b[1;32m<ipython-input-1-ec687019526a>\u001b[0m in \u001b[0;36m<module>\u001b[1;34m()\u001b[0m\n\u001b[0;32m     76\u001b[0m \u001b[1;31m# tk.update()\u001b[0m\u001b[1;33m\u001b[0m\u001b[1;33m\u001b[0m\u001b[0m\n\u001b[0;32m     77\u001b[0m \u001b[1;31m# time.sleep(0.01)\u001b[0m\u001b[1;33m\u001b[0m\u001b[1;33m\u001b[0m\u001b[0m\n\u001b[1;32m---> 78\u001b[1;33m     \u001b[0mball\u001b[0m\u001b[1;33m.\u001b[0m\u001b[0mdraw\u001b[0m\u001b[1;33m(\u001b[0m\u001b[1;33m)\u001b[0m\u001b[1;33m\u001b[0m\u001b[0m\n\u001b[0m\u001b[0;32m     79\u001b[0m     \u001b[0mpaddle\u001b[0m\u001b[1;33m.\u001b[0m\u001b[0mdraw\u001b[0m\u001b[1;33m(\u001b[0m\u001b[1;33m)\u001b[0m\u001b[1;33m\u001b[0m\u001b[0m\n\u001b[0;32m     80\u001b[0m     \u001b[0mtk\u001b[0m\u001b[1;33m.\u001b[0m\u001b[0mupdate_idletasks\u001b[0m\u001b[1;33m(\u001b[0m\u001b[1;33m)\u001b[0m\u001b[1;33m\u001b[0m\u001b[0m\n",
      "\u001b[1;32m<ipython-input-1-ec687019526a>\u001b[0m in \u001b[0;36mdraw\u001b[1;34m(self)\u001b[0m\n\u001b[0;32m     18\u001b[0m     \u001b[0mself\u001b[0m\u001b[1;33m.\u001b[0m\u001b[0mhit_bottom\u001b[0m \u001b[1;33m=\u001b[0m \u001b[1;32mFalse\u001b[0m\u001b[1;33m\u001b[0m\u001b[0m\n\u001b[0;32m     19\u001b[0m   \u001b[1;32mdef\u001b[0m \u001b[0mdraw\u001b[0m\u001b[1;33m(\u001b[0m\u001b[0mself\u001b[0m\u001b[1;33m)\u001b[0m\u001b[1;33m:\u001b[0m\u001b[1;33m\u001b[0m\u001b[0m\n\u001b[1;32m---> 20\u001b[1;33m     \u001b[0mself\u001b[0m\u001b[1;33m.\u001b[0m\u001b[0mcanvas\u001b[0m\u001b[1;33m.\u001b[0m\u001b[0mmove\u001b[0m\u001b[1;33m(\u001b[0m\u001b[0mself\u001b[0m\u001b[1;33m.\u001b[0m\u001b[0mid\u001b[0m\u001b[1;33m,\u001b[0m \u001b[0mself\u001b[0m\u001b[1;33m.\u001b[0m\u001b[0mx\u001b[0m\u001b[1;33m,\u001b[0m \u001b[0mself\u001b[0m\u001b[1;33m.\u001b[0m\u001b[0my\u001b[0m\u001b[1;33m)\u001b[0m\u001b[1;33m\u001b[0m\u001b[0m\n\u001b[0m\u001b[0;32m     21\u001b[0m     \u001b[0mpos\u001b[0m \u001b[1;33m=\u001b[0m \u001b[0mself\u001b[0m\u001b[1;33m.\u001b[0m\u001b[0mcanvas\u001b[0m\u001b[1;33m.\u001b[0m\u001b[0mcoords\u001b[0m\u001b[1;33m(\u001b[0m\u001b[0mself\u001b[0m\u001b[1;33m.\u001b[0m\u001b[0mid\u001b[0m\u001b[1;33m)\u001b[0m\u001b[1;31m#top-left bottom-right\u001b[0m\u001b[1;33m\u001b[0m\u001b[0m\n\u001b[0;32m     22\u001b[0m \u001b[1;31m#     if (pos[1] <= 0 or self.hit_paddle(pos) == True):\u001b[0m\u001b[1;33m\u001b[0m\u001b[1;33m\u001b[0m\u001b[0m\n",
      "\u001b[1;32mD:\\Connections\\AI\\lib\\tkinter\\__init__.py\u001b[0m in \u001b[0;36mmove\u001b[1;34m(self, *args)\u001b[0m\n\u001b[0;32m   2586\u001b[0m     \u001b[1;32mdef\u001b[0m \u001b[0mmove\u001b[0m\u001b[1;33m(\u001b[0m\u001b[0mself\u001b[0m\u001b[1;33m,\u001b[0m \u001b[1;33m*\u001b[0m\u001b[0margs\u001b[0m\u001b[1;33m)\u001b[0m\u001b[1;33m:\u001b[0m\u001b[1;33m\u001b[0m\u001b[0m\n\u001b[0;32m   2587\u001b[0m         \u001b[1;34m\"\"\"Move an item TAGORID given in ARGS.\"\"\"\u001b[0m\u001b[1;33m\u001b[0m\u001b[0m\n\u001b[1;32m-> 2588\u001b[1;33m         \u001b[0mself\u001b[0m\u001b[1;33m.\u001b[0m\u001b[0mtk\u001b[0m\u001b[1;33m.\u001b[0m\u001b[0mcall\u001b[0m\u001b[1;33m(\u001b[0m\u001b[1;33m(\u001b[0m\u001b[0mself\u001b[0m\u001b[1;33m.\u001b[0m\u001b[0m_w\u001b[0m\u001b[1;33m,\u001b[0m \u001b[1;34m'move'\u001b[0m\u001b[1;33m)\u001b[0m \u001b[1;33m+\u001b[0m \u001b[0margs\u001b[0m\u001b[1;33m)\u001b[0m\u001b[1;33m\u001b[0m\u001b[0m\n\u001b[0m\u001b[0;32m   2589\u001b[0m     \u001b[1;32mdef\u001b[0m \u001b[0mpostscript\u001b[0m\u001b[1;33m(\u001b[0m\u001b[0mself\u001b[0m\u001b[1;33m,\u001b[0m \u001b[0mcnf\u001b[0m\u001b[1;33m=\u001b[0m\u001b[1;33m{\u001b[0m\u001b[1;33m}\u001b[0m\u001b[1;33m,\u001b[0m \u001b[1;33m**\u001b[0m\u001b[0mkw\u001b[0m\u001b[1;33m)\u001b[0m\u001b[1;33m:\u001b[0m\u001b[1;33m\u001b[0m\u001b[0m\n\u001b[0;32m   2590\u001b[0m         \"\"\"Print the contents of the canvas to a postscript\n",
      "\u001b[1;31mTclError\u001b[0m: invalid command name \".!canvas\""
     ]
    }
   ],
   "source": [
    "from tkinter import *\n",
    "import matplotlib\n",
    "matplotlib.use('Agg')\n",
    "import random\n",
    "import time\n",
    "class Ball:\n",
    "  def __init__(self, canvas, paddle, color):\n",
    "    self.canvas = canvas\n",
    "    self.paddle = paddle\n",
    "    self.id = canvas.create_oval(10, 10, 25, 25, fill=color)\n",
    "    self.canvas.move(self.id, 245, 100)\n",
    "    startx = [-3, -2, -1, 1, 2, 3]\n",
    "    random.shuffle(startx)\n",
    "    self.x = startx[0]\n",
    "    self.y = -3\n",
    "    self.canvas_height = self.canvas.winfo_height()\n",
    "    self.canvas_width = self.canvas.winfo_width()\n",
    "    self.hit_bottom = False\n",
    "  def draw(self):\n",
    "    self.canvas.move(self.id, self.x, self.y)\n",
    "    pos = self.canvas.coords(self.id)#top-left bottom-right\n",
    "#     if (pos[1] <= 0 or self.hit_paddle(pos) == True):\n",
    "#       self.y = -self.y\n",
    "#     if (pos[0] <= 0 or pos[2] >= self.canvas_width):\n",
    "#       self.x = -self.x\n",
    "#     if (pos[3] >= self.canvas_height):\n",
    "#       self.hit_bottom = True\n",
    "    if pos[1]<=0:\n",
    "            self.y=3\n",
    "    if pos[3]>=self.canvas_height:\n",
    "            self.y = -3\n",
    "    if self.hit_paddle(pos)==True:\n",
    "            self.y=-3\n",
    "    if pos[0]<=0:\n",
    "            self.x=3\n",
    "    if pos[2]>=self.canvas_width:\n",
    "            self.x=-3\n",
    "  def hit_paddle(self, pos):\n",
    "    paddle_pos = self.canvas.coords(self.paddle.id)\n",
    "    if (pos[2] >= paddle_pos[0] and pos[0] <= paddle_pos[2]):\n",
    "      if (pos[3] >= paddle_pos[1] and pos[3] <= paddle_pos[3]):\n",
    "        return True\n",
    "    return False\n",
    "class Paddle:\n",
    "  def __init__(self, canvas, color):\n",
    "    self.canvas = canvas\n",
    "    self.id = canvas.create_rectangle(0, 0, 100, 10, fill = color)\n",
    "    self.x = 0\n",
    "    self.canvas.move(self.id, 200, 300)\n",
    "    self.canvas_width = self.canvas.winfo_width()\n",
    "    self.canvas.bind_all(\"<Key-Left>\", self.turn_left)\n",
    "    self.canvas.bind_all(\"<Key-Right>\", self.turn_right)\n",
    "  def draw(self):\n",
    "    pos = self.canvas.coords(self.id)\n",
    "    if (pos[0] + self.x >= 0 and pos[2] + self.x <= self.canvas_width):\n",
    "      self.canvas.move(self.id, self.x, 0)\n",
    "    #self.x = 0\n",
    "  def turn_left(self, event):\n",
    "    self.x = -4\n",
    "  def turn_right(self, event):\n",
    "    self.x = 4\n",
    "tk = Tk()\n",
    "tk.title(\"Game\")\n",
    "tk.resizable(0, 0)#not resizable\n",
    "tk.wm_attributes(\"-topmost\", 1)#at top\n",
    "canvas = Canvas(tk, width = 500, height = 500, bd = 0, highlightthickness = 0)\n",
    "canvas.pack()\n",
    "tk.update()#init\n",
    "paddle = Paddle(canvas, 'blue')\n",
    "ball = Ball(canvas, paddle, 'red')\n",
    "while 1:\n",
    "#   if (ball.hit_bottom == False):\n",
    "#     ball.draw()\n",
    "#     paddle.draw()\n",
    "# tk.update_idletasks()\n",
    "# tk.update()\n",
    "# time.sleep(0.01)\n",
    "    ball.draw()\n",
    "    paddle.draw()\n",
    "    tk.update_idletasks()\n",
    "    tk.update()\n",
    "    time.sleep(0.01)"
   ]
  }
 ],
 "metadata": {
  "kernelspec": {
   "display_name": "Python 3",
   "language": "python",
   "name": "python3"
  },
  "language_info": {
   "codemirror_mode": {
    "name": "ipython",
    "version": 3
   },
   "file_extension": ".py",
   "mimetype": "text/x-python",
   "name": "python",
   "nbconvert_exporter": "python",
   "pygments_lexer": "ipython3",
   "version": "3.6.5"
  }
 },
 "nbformat": 4,
 "nbformat_minor": 2
}
